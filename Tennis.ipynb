{
 "cells": [
  {
   "cell_type": "markdown",
   "metadata": {},
   "source": [
    "# Collaboration and Competition\n",
    "\n",
    "---\n",
    "\n",
    "You are welcome to use this coding environment to train your agent for the project.  Follow the instructions below to get started!\n",
    "\n",
    "### 1. Start the Environment\n",
    "\n",
    "Run the next code cell to install a few packages.  This line will take a few minutes to run!"
   ]
  },
  {
   "cell_type": "code",
   "execution_count": 1,
   "metadata": {},
   "outputs": [
    {
     "name": "stdout",
     "output_type": "stream",
     "text": [
      "\u001b[31mtensorflow 1.7.1 has requirement numpy>=1.13.3, but you'll have numpy 1.12.1 which is incompatible.\u001b[0m\r\n",
      "\u001b[31mipython 6.5.0 has requirement prompt-toolkit<2.0.0,>=1.0.15, but you'll have prompt-toolkit 2.0.10 which is incompatible.\u001b[0m\r\n"
     ]
    }
   ],
   "source": [
    "!pip -q install ./python"
   ]
  },
  {
   "cell_type": "code",
   "execution_count": 2,
   "metadata": {},
   "outputs": [
    {
     "name": "stderr",
     "output_type": "stream",
     "text": [
      "INFO:unityagents:\n",
      "'Academy' started successfully!\n",
      "Unity Academy name: Academy\n",
      "        Number of Brains: 1\n",
      "        Number of External Brains : 1\n",
      "        Lesson number : 0\n",
      "        Reset Parameters :\n",
      "\t\t\n",
      "Unity brain name: TennisBrain\n",
      "        Number of Visual Observations (per agent): 0\n",
      "        Vector Observation space type: continuous\n",
      "        Vector Observation space size (per agent): 8\n",
      "        Number of stacked Vector Observation: 3\n",
      "        Vector Action space type: continuous\n",
      "        Vector Action space size (per agent): 2\n",
      "        Vector Action descriptions: , \n"
     ]
    }
   ],
   "source": [
    "from unityagents import UnityEnvironment\n",
    "import numpy as np\n",
    "\n",
    "env = UnityEnvironment(file_name=\"/data/Tennis_Linux_NoVis/Tennis\")"
   ]
  },
  {
   "cell_type": "markdown",
   "metadata": {},
   "source": [
    "Environments contain **_brains_** which are responsible for deciding the actions of their associated agents. Here we check for the first brain available, and set it as the default brain we will be controlling from Python."
   ]
  },
  {
   "cell_type": "code",
   "execution_count": 3,
   "metadata": {},
   "outputs": [],
   "source": [
    "# get the default brain\n",
    "brain_name = env.brain_names[0]\n",
    "brain = env.brains[brain_name]"
   ]
  },
  {
   "cell_type": "markdown",
   "metadata": {},
   "source": [
    "### 2. Examine the State and Action Spaces\n",
    "\n",
    "Run the code cell below to print some information about the environment."
   ]
  },
  {
   "cell_type": "code",
   "execution_count": 4,
   "metadata": {},
   "outputs": [
    {
     "name": "stdout",
     "output_type": "stream",
     "text": [
      "Number of agents: 2\n",
      "Size of each action: 2\n",
      "There are 2 agents. Each observes a state with length: 24\n",
      "The state for the first agent looks like: [ 0.          0.          0.          0.          0.          0.          0.\n",
      "  0.          0.          0.          0.          0.          0.          0.\n",
      "  0.          0.         -6.65278625 -1.5        -0.          0.\n",
      "  6.83172083  6.         -0.          0.        ]\n"
     ]
    }
   ],
   "source": [
    "# reset the environment\n",
    "env_info = env.reset(train_mode=True)[brain_name]\n",
    "\n",
    "# number of agents \n",
    "num_agents = len(env_info.agents)\n",
    "\n",
    "print('Number of agents:', num_agents)\n",
    "\n",
    "# size of each action\n",
    "action_size = brain.vector_action_space_size\n",
    "print('Size of each action:', action_size)\n",
    "\n",
    "# examine the state space \n",
    "states = env_info.vector_observations\n",
    "state_size = states.shape[1]\n",
    "print('There are {} agents. Each observes a state with length: {}'.format(states.shape[0], state_size))\n",
    "print('The state for the first agent looks like:', states[0])"
   ]
  },
  {
   "cell_type": "markdown",
   "metadata": {},
   "source": [
    "### 3. Take Random Actions in the Environment\n",
    "\n",
    "In the next code cell, you will learn how to use the Python API to control the agent and receive feedback from the environment.\n",
    "\n",
    "Note that **in this coding environment, you will not be able to watch the agents while they are training**, and you should set `train_mode=True` to restart the environment."
   ]
  },
  {
   "cell_type": "code",
   "execution_count": 5,
   "metadata": {},
   "outputs": [
    {
     "name": "stdout",
     "output_type": "stream",
     "text": [
      "Total score (averaged over agents) this episode: -0.004999999888241291\n",
      "Total score (averaged over agents) this episode: -0.004999999888241291\n",
      "Total score (averaged over agents) this episode: -0.004999999888241291\n",
      "Total score (averaged over agents) this episode: 0.09500000160187483\n",
      "Total score (averaged over agents) this episode: -0.004999999888241291\n"
     ]
    }
   ],
   "source": [
    "for i in range(5):                                         # play game for 5 episodes\n",
    "    env_info = env.reset(train_mode=False)[brain_name]     # reset the environment    \n",
    "    states = env_info.vector_observations                  # get the current state (for each agent)\n",
    "    scores = np.zeros(num_agents)                          # initialize the score (for each agent)\n",
    "    while True:\n",
    "        actions = np.random.randn(num_agents, action_size) # select an action (for each agent)\n",
    "        actions = np.clip(actions, -1, 1)                  # all actions between -1 and 1\n",
    "        env_info = env.step(actions)[brain_name]           # send all actions to tne environment\n",
    "        next_states = env_info.vector_observations         # get next state (for each agent)\n",
    "        rewards = env_info.rewards                         # get reward (for each agent)\n",
    "        dones = env_info.local_done                        # see if episode finished\n",
    "        scores += env_info.rewards                         # update the score (for each agent)\n",
    "        states = next_states                               # roll over states to next time step\n",
    "        if np.any(dones):        # exit loop if episode finished\n",
    "            break\n",
    "    print('Total score (averaged over agents) this episode: {}'.format(np.mean(scores)))"
   ]
  },
  {
   "cell_type": "markdown",
   "metadata": {},
   "source": [
    "When finished, you can close the environment."
   ]
  },
  {
   "cell_type": "markdown",
   "metadata": {},
   "source": [
    "### 4. It's Your Turn!\n",
    "\n",
    "Now it's your turn to train your own agent to solve the environment!  A few **important notes**:\n",
    "- When training the environment, set `train_mode=True`, so that the line for resetting the environment looks like the following:\n",
    "```python\n",
    "env_info = env.reset(train_mode=True)[brain_name]\n",
    "```\n",
    "- To structure your work, you're welcome to work directly in this Jupyter notebook, or you might like to start over with a new file!  You can see the list of files in the workspace by clicking on **_Jupyter_** in the top left corner of the notebook.\n",
    "- In this coding environment, you will not be able to watch the agents while they are training.  However, **_after training the agents_**, you can download the saved model weights to watch the agents on your own machine! "
   ]
  },
  {
   "cell_type": "markdown",
   "metadata": {},
   "source": [
    "#### 4.1 Train the MDPG:"
   ]
  },
  {
   "cell_type": "code",
   "execution_count": 6,
   "metadata": {},
   "outputs": [],
   "source": [
    "\n",
    "def train_(maddpg):\n",
    "    # Monitor the score    \n",
    "    scores_deque = deque(maxlen=100)\n",
    "    all_scores = []\n",
    "    all_avg_score = []\n",
    "    \n",
    "    \n",
    "    # Intialize amplitude OU noise (will decay during training)\n",
    "    noise = 0.96\n",
    "    \n",
    "    all_steps = 0   # Monitor total number of steps performed\n",
    "    \n",
    "    # Training Loop\n",
    "    for i_episode in range(NB_EPISODES+1):  \n",
    "             \n",
    "        env_info = env.reset(train_mode=True)[brain_name]          # reset the environment  \n",
    "        maddpg.reset()                                             # reset the agents \n",
    "            \n",
    "        states = env_info.vector_observations                      # get the current state for each agent \n",
    "        scores = np.zeros(num_agents)                              # initialize the score (for each agent)\n",
    "\n",
    "        for steps in range(NB_STEPS):\n",
    "            \n",
    "            all_steps+=1\n",
    "\n",
    "            actions = maddpg.act(states, noise)                    # retrieve actions to performe for each agents \n",
    "            noise *= 0.99                                         # Decrease action noise\n",
    "            env_info = env.step(actions)[brain_name]               # send all actions to tne environment\n",
    "            next_states = env_info.vector_observations             # get next state for each agent\n",
    "            rewards = env_info.rewards                             # get reward (for each agent)\n",
    "            dones = env_info.local_done                            # see if episode finished\n",
    "            \n",
    "            # Save experience in replay memory, and use random sample from buffer to learn\n",
    "            maddpg.step(states, actions, rewards, next_states, dones, i_episode)  \n",
    "\n",
    "            scores += env_info.rewards                             # update the score (for each agent)\n",
    "            states = next_states                                   # roll over states to next time step\n",
    "            if np.any(dones):                                      # exit loop if episode finishedb\n",
    "                break\n",
    "        \n",
    "        # Save scores and compute average score over last 100 episodes       \n",
    "        episode_score  = np.max(scores)  # Consider the maximum score amongs all Agents\n",
    "        all_scores.append(episode_score)\n",
    "        scores_deque.append(episode_score)\n",
    "        avg_score = np.mean(scores_deque)\n",
    "\n",
    "        # Display statistics \n",
    "        print('\\rEpisode {}\\tAverage Score: {:.2f}\\tEpisode score (max over agents): {:.2f}'.format(i_episode, avg_score, episode_score), end=\"\")\n",
    "        if i_episode>0 and i_episode % 10 == 0:\n",
    "            print('\\rEpisode {}\\tAverage Score: {:.2f} '.format(i_episode, avg_score))\n",
    "            maddpg.checkpoints()\n",
    "            all_avg_score.append(avg_score)\n",
    "        \n",
    "        # Early stop\n",
    "        if (i_episode > 99) and (avg_score >=0.5):\n",
    "            print('\\rEnvironment solved in {} episodes with an Average Score of {:.2f}'.format(i_episode, avg_score))\n",
    "            maddpg.checkpoints()\n",
    "            return all_scores\n",
    "\n",
    "    return all_scores\n"
   ]
  },
  {
   "cell_type": "code",
   "execution_count": 7,
   "metadata": {},
   "outputs": [],
   "source": [
    "from Multi_Agent import Maddpg\n",
    "import torch\n",
    "from collections import deque\n",
    "\n",
    "\n",
    "NB_STEPS = 2000  # per episode \n"
   ]
  },
  {
   "cell_type": "code",
   "execution_count": 8,
   "metadata": {},
   "outputs": [],
   "source": [
    "NB_EPISODES = 1000"
   ]
  },
  {
   "cell_type": "code",
   "execution_count": 9,
   "metadata": {},
   "outputs": [],
   "source": [
    "maddpg = Maddpg(state_size, action_size, num_agents, 10)"
   ]
  },
  {
   "cell_type": "code",
   "execution_count": 11,
   "metadata": {},
   "outputs": [
    {
     "name": "stderr",
     "output_type": "stream",
     "text": [
      "/home/workspace/Multi_Agent.py:155: UserWarning: torch.nn.utils.clip_grad_norm is now deprecated in favor of torch.nn.utils.clip_grad_norm_.\n",
      "  torch.nn.utils.clip_grad_norm(agent.critic_local.parameters(), 1)\n"
     ]
    },
    {
     "name": "stdout",
     "output_type": "stream",
     "text": [
      "Episode 10\tAverage Score: 0.09 Episode score (max over agents): 0.09\n",
      "Episode 20\tAverage Score: 0.09 Episode score (max over agents): 0.10\n",
      "Episode 30\tAverage Score: 0.08 Episode score (max over agents): 0.00\n",
      "Episode 40\tAverage Score: 0.08 Episode score (max over agents): 0.09\n",
      "Episode 50\tAverage Score: 0.08 Episode score (max over agents): 0.09\n",
      "Episode 60\tAverage Score: 0.08 Episode score (max over agents): 0.09\n",
      "Episode 70\tAverage Score: 0.07 Episode score (max over agents): 0.00\n",
      "Episode 80\tAverage Score: 0.07 Episode score (max over agents): 0.09\n",
      "Episode 90\tAverage Score: 0.08 Episode score (max over agents): 0.09\n",
      "Episode 100\tAverage Score: 0.08 Episode score (max over agents): 0.00\n",
      "Episode 110\tAverage Score: 0.08 Episode score (max over agents): 0.09\n",
      "Episode 120\tAverage Score: 0.08 Episode score (max over agents): 0.00\n",
      "Episode 130\tAverage Score: 0.08 Episode score (max over agents): 0.10\n",
      "Episode 140\tAverage Score: 0.08 Episode score (max over agents): 0.10\n",
      "Episode 150\tAverage Score: 0.08 Episode score (max over agents): 0.09\n",
      "Episode 160\tAverage Score: 0.08 Episode score (max over agents): 0.10\n",
      "Episode 170\tAverage Score: 0.08 Episode score (max over agents): 0.09\n",
      "Episode 180\tAverage Score: 0.08 Episode score (max over agents): 0.09\n",
      "Episode 190\tAverage Score: 0.07 Episode score (max over agents): 0.00\n",
      "Episode 200\tAverage Score: 0.07 Episode score (max over agents): 0.10\n",
      "Episode 210\tAverage Score: 0.07 Episode score (max over agents): 0.10\n",
      "Episode 220\tAverage Score: 0.07 Episode score (max over agents): 0.10\n",
      "Episode 230\tAverage Score: 0.07 Episode score (max over agents): 0.10\n",
      "Episode 240\tAverage Score: 0.07 Episode score (max over agents): 0.00\n",
      "Episode 250\tAverage Score: 0.07 Episode score (max over agents): 0.10\n",
      "Episode 260\tAverage Score: 0.08 Episode score (max over agents): 0.30\n",
      "Episode 270\tAverage Score: 0.08 Episode score (max over agents): 0.00\n",
      "Episode 280\tAverage Score: 0.09 Episode score (max over agents): 0.10\n",
      "Episode 290\tAverage Score: 0.09 Episode score (max over agents): 0.10\n",
      "Episode 300\tAverage Score: 0.09 Episode score (max over agents): 0.00\n",
      "Episode 310\tAverage Score: 0.09 Episode score (max over agents): 0.10\n",
      "Episode 320\tAverage Score: 0.09 Episode score (max over agents): 0.30\n",
      "Episode 330\tAverage Score: 0.09 Episode score (max over agents): 0.20\n",
      "Episode 340\tAverage Score: 0.10 Episode score (max over agents): 0.10\n",
      "Episode 350\tAverage Score: 0.10 Episode score (max over agents): 0.10\n",
      "Episode 360\tAverage Score: 0.10 Episode score (max over agents): 0.10\n",
      "Episode 370\tAverage Score: 0.10 Episode score (max over agents): 0.10\n",
      "Episode 380\tAverage Score: 0.11 Episode score (max over agents): 0.10\n",
      "Episode 390\tAverage Score: 0.11 Episode score (max over agents): 0.10\n",
      "Episode 400\tAverage Score: 0.11 Episode score (max over agents): 0.00\n",
      "Episode 410\tAverage Score: 0.12 Episode score (max over agents): 0.10\n",
      "Episode 420\tAverage Score: 0.12 Episode score (max over agents): 0.10\n",
      "Episode 430\tAverage Score: 0.12 Episode score (max over agents): 0.20\n",
      "Episode 440\tAverage Score: 0.11 Episode score (max over agents): 0.20\n",
      "Episode 450\tAverage Score: 0.12 Episode score (max over agents): 0.10\n",
      "Episode 460\tAverage Score: 0.12 Episode score (max over agents): 0.09\n",
      "Episode 470\tAverage Score: 0.11 Episode score (max over agents): 0.10\n",
      "Episode 480\tAverage Score: 0.11 Episode score (max over agents): 0.10\n",
      "Episode 490\tAverage Score: 0.12 Episode score (max over agents): 0.10\n",
      "Episode 500\tAverage Score: 0.12 Episode score (max over agents): 0.10\n",
      "Episode 510\tAverage Score: 0.12 Episode score (max over agents): 0.10\n",
      "Episode 520\tAverage Score: 0.13 Episode score (max over agents): 0.10\n",
      "Episode 530\tAverage Score: 0.13 Episode score (max over agents): 0.10\n",
      "Episode 540\tAverage Score: 0.13 Episode score (max over agents): 0.30\n",
      "Episode 550\tAverage Score: 0.14 Episode score (max over agents): 0.10\n",
      "Episode 560\tAverage Score: 0.19 Episode score (max over agents): 2.50\n",
      "Episode 570\tAverage Score: 0.22 Episode score (max over agents): 0.10\n",
      "Episode 580\tAverage Score: 0.29 Episode score (max over agents): 0.30\n",
      "Episode 590\tAverage Score: 0.34 Episode score (max over agents): 0.20\n",
      "Episode 600\tAverage Score: 0.37 Episode score (max over agents): 0.19\n",
      "Episode 610\tAverage Score: 0.40 Episode score (max over agents): 0.10\n",
      "Episode 620\tAverage Score: 0.44 Episode score (max over agents): 0.10\n",
      "Environment solved in 629 episodes with an Average Score of 0.51 2.60\n"
     ]
    }
   ],
   "source": [
    "\n",
    "scores = train_(maddpg)"
   ]
  },
  {
   "cell_type": "markdown",
   "metadata": {},
   "source": [
    "#### 4.2 Plot the training behaviour "
   ]
  },
  {
   "cell_type": "code",
   "execution_count": 13,
   "metadata": {},
   "outputs": [
    {
     "data": {
      "image/png": "[encoded data removed]",
      "text/plain": [
       "<matplotlib.figure.Figure at 0x7f7c488e8fd0>"
      ]
     },
     "metadata": {
      "needs_background": "light"
     },
     "output_type": "display_data"
    }
   ],
   "source": [
    "import matplotlib.pyplot as plt\n",
    "plt.plot(np.arange(1, len(scores)+1), scores, color='red')\n",
    "plt.ylabel('Score')\n",
    "plt.xlabel('Episode #')\n",
    "plt.show()"
   ]
  },
  {
   "cell_type": "markdown",
   "metadata": {},
   "source": [
    "#### 4.3 Close the environment"
   ]
  },
  {
   "cell_type": "code",
   "execution_count": 14,
   "metadata": {},
   "outputs": [],
   "source": [
    "env.close()"
   ]
  }
 ],
 "metadata": {
  "kernelspec": {
   "display_name": "Python 3",
   "language": "python",
   "name": "python3"
  },
  "language_info": {
   "codemirror_mode": {
    "name": "ipython",
    "version": 3
   },
   "file_extension": ".py",
   "mimetype": "text/x-python",
   "name": "python",
   "nbconvert_exporter": "python",
   "pygments_lexer": "ipython3",
   "version": "3.6.3"
  }
 },
 "nbformat": 4,
 "nbformat_minor": 2
}
